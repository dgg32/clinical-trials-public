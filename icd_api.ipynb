{
 "cells": [
  {
   "cell_type": "code",
   "execution_count": 14,
   "metadata": {},
   "outputs": [],
   "source": [
    "import requests\n",
    "import yaml\n",
    "import json"
   ]
  },
  {
   "cell_type": "code",
   "execution_count": 3,
   "metadata": {},
   "outputs": [],
   "source": [
    "with open(\"config.yaml\", \"r\") as stream:\n",
    "    try:\n",
    "        PARAM = yaml.safe_load(stream)\n",
    "    except yaml.YAMLError as exc:\n",
    "        print(exc)"
   ]
  },
  {
   "cell_type": "code",
   "execution_count": 4,
   "metadata": {},
   "outputs": [],
   "source": [
    "token_endpoint = 'https://icdaccessmanagement.who.int/connect/token'\n",
    "client_id = PARAM[\"ICD_ClientId\"]\n",
    "client_secret = PARAM[\"ICD_ClientSecret\"]\n",
    "scope = 'icdapi_access'\n",
    "grant_type = 'client_credentials'"
   ]
  },
  {
   "cell_type": "code",
   "execution_count": 5,
   "metadata": {},
   "outputs": [],
   "source": [
    "payload = {'client_id': client_id, \n",
    "\t   \t   'client_secret': client_secret, \n",
    "           'scope': scope, \n",
    "           'grant_type': grant_type}"
   ]
  },
  {
   "cell_type": "code",
   "execution_count": 6,
   "metadata": {},
   "outputs": [
    {
     "name": "stderr",
     "output_type": "stream",
     "text": [
      "c:\\Users\\dgg32\\anaconda3\\lib\\site-packages\\urllib3\\connectionpool.py:1045: InsecureRequestWarning: Unverified HTTPS request is being made to host '127.0.0.1'. Adding certificate verification is strongly advised. See: https://urllib3.readthedocs.io/en/1.26.x/advanced-usage.html#ssl-warnings\n",
      "  warnings.warn(\n"
     ]
    }
   ],
   "source": [
    "r = requests.post(token_endpoint, data=payload, verify=False).json()\n",
    "token = r['access_token']\n",
    "\n",
    "\n",
    "# access ICD API\n",
    "\n",
    "uri = 'https://id.who.int/icd/entity'\n",
    "\n",
    "# HTTP header fields to set\n",
    "headers = {'Authorization':  'Bearer '+token, \n",
    "           'Accept': 'application/json', \n",
    "           'Accept-Language': 'en',\n",
    "\t   'API-Version': 'v2'}"
   ]
  },
  {
   "cell_type": "code",
   "execution_count": 10,
   "metadata": {},
   "outputs": [
    {
     "name": "stdout",
     "output_type": "stream",
     "text": [
      "{\"@context\":\"http://id.who.int/icd/contexts/contextForTopLevel.json\",\"@id\":\"http://id.who.int/icd/entity\",\"title\":{\"@language\":\"en\",\"@value\":\"International Classification of Diseases 11th Revision\"},\"releaseId\":\"2023-01\",\"availableLanguages\":[\"ar\",\"en\",\"es\",\"fr\",\"ru\",\"tr\",\"zh\"],\"releaseDate\":\"2023-01-23\",\"child\":[\"http://id.who.int/icd/entity/448895267\"],\"browserUrl\":\"NA\"}\n"
     ]
    }
   ],
   "source": [
    "uri = 'https://id.who.int/icd/entity'\n",
    "\n",
    "# HTTP header fields to set\n",
    "headers = {'Authorization':  'Bearer '+token, \n",
    "           'Accept': 'application/json', \n",
    "           'Accept-Language': 'en',\n",
    "\t   'API-Version': 'v2'}\n",
    "           \n",
    "# make request           \n",
    "r = requests.get(uri, headers=headers)\n",
    "\n",
    "# print the result\n",
    "print (r.text)\t\t\t"
   ]
  },
  {
   "cell_type": "code",
   "execution_count": 26,
   "metadata": {},
   "outputs": [
    {
     "name": "stderr",
     "output_type": "stream",
     "text": [
      "c:\\Users\\dgg32\\anaconda3\\lib\\site-packages\\urllib3\\connectionpool.py:1045: InsecureRequestWarning: Unverified HTTPS request is being made to host '127.0.0.1'. Adding certificate verification is strongly advised. See: https://urllib3.readthedocs.io/en/1.26.x/advanced-usage.html#ssl-warnings\n",
      "  warnings.warn(\n"
     ]
    }
   ],
   "source": [
    "#uri = \"https://id.who.int/icd/search?q=breast%20cancer\"\n",
    "uri = \"https://id.who.int/icd/entity/search?q=breast cancer\"\n",
    "r = requests.get(uri, headers=headers, verify=False)\n",
    "\n",
    "# print the result\n",
    "with open(\"text.json\", \"w\") as output:\n",
    "    output.write(r.text)"
   ]
  },
  {
   "cell_type": "code",
   "execution_count": 27,
   "metadata": {},
   "outputs": [
    {
     "name": "stderr",
     "output_type": "stream",
     "text": [
      "c:\\Users\\dgg32\\anaconda3\\lib\\site-packages\\urllib3\\connectionpool.py:1045: InsecureRequestWarning: Unverified HTTPS request is being made to host '127.0.0.1'. Adding certificate verification is strongly advised. See: https://urllib3.readthedocs.io/en/1.26.x/advanced-usage.html#ssl-warnings\n",
      "  warnings.warn(\n"
     ]
    }
   ],
   "source": [
    "#uri = \"https://id.who.int/icd/search?q=breast%20cancer\"\n",
    "uri = \"http://id.who.int/icd/entity/1047754165\"\n",
    "r = requests.get(uri, headers=headers, verify=False)\n",
    "\n",
    "# print the result\n",
    "with open(\"detail.json\", \"w\") as output:\n",
    "    output.write(r.text)"
   ]
  },
  {
   "cell_type": "code",
   "execution_count": null,
   "metadata": {},
   "outputs": [],
   "source": []
  }
 ],
 "metadata": {
  "kernelspec": {
   "display_name": "base",
   "language": "python",
   "name": "python3"
  },
  "language_info": {
   "codemirror_mode": {
    "name": "ipython",
    "version": 3
   },
   "file_extension": ".py",
   "mimetype": "text/x-python",
   "name": "python",
   "nbconvert_exporter": "python",
   "pygments_lexer": "ipython3",
   "version": "3.10.9"
  },
  "orig_nbformat": 4
 },
 "nbformat": 4,
 "nbformat_minor": 2
}
