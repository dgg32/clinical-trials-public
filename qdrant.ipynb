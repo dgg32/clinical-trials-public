{
 "cells": [
  {
   "cell_type": "code",
   "execution_count": 27,
   "metadata": {},
   "outputs": [],
   "source": [
    "from qdrant_client import QdrantClient\n",
    "from qdrant_client.models import Distance, VectorParams, PointStruct\n",
    "import openai\n",
    "import yaml\n",
    "\n"
   ]
  },
  {
   "cell_type": "code",
   "execution_count": 28,
   "metadata": {},
   "outputs": [],
   "source": [
    "with open(\"config.yaml\", \"r\") as stream:\n",
    "    try:\n",
    "        PARAM = yaml.safe_load(stream)\n",
    "    except yaml.YAMLError as exc:\n",
    "        print(exc)"
   ]
  },
  {
   "cell_type": "code",
   "execution_count": 29,
   "metadata": {},
   "outputs": [],
   "source": [
    "EMBEDDING_MODEL = \"text-embedding-ada-002\"\n",
    "openai.api_key = PARAM[\"OPENAI_API_KEY\"]"
   ]
  },
  {
   "cell_type": "code",
   "execution_count": 30,
   "metadata": {},
   "outputs": [],
   "source": [
    "def get_embedding(text, model=EMBEDDING_MODEL):\n",
    "   text = text.replace(\"\\n\", \" \")\n",
    "   return openai.Embedding.create(input = [text], model=model)['data'][0]['embedding']"
   ]
  },
  {
   "cell_type": "code",
   "execution_count": 31,
   "metadata": {},
   "outputs": [],
   "source": [
    "embedding = get_embedding(\"Document effects of Gaucher disease in different systems of body, including nervous system, liver, and spleen.,Document adverse events subjects experience on enzyme replacement therapy,Document adverse events of subjects on substrate reduction therapy,Document long-term complications in Gaucher Disease.,Change in 36-Item Short Form Survey (SF-36) collected every 6 months/1 year.,Change in Small Fiber Neuropathy Screening List (SFNSL) collected every 6 months/1 year.,Document number of subjects experiencing neurological symptoms related to Gaucher, by using Neurological Follow-up exam,Change in Parkinson's checklist collected every 6 months/1 year\")"
   ]
  },
  {
   "cell_type": "code",
   "execution_count": 32,
   "metadata": {},
   "outputs": [
    {
     "data": {
      "text/plain": [
       "1536"
      ]
     },
     "execution_count": 32,
     "metadata": {},
     "output_type": "execute_result"
    }
   ],
   "source": [
    "len(embedding)"
   ]
  },
  {
   "cell_type": "code",
   "execution_count": 33,
   "metadata": {},
   "outputs": [],
   "source": [
    "qdrant_client = QdrantClient(\n",
    "    url=PARAM[\"qdrant_URL\"], \n",
    "    api_key=PARAM[\"qdrant_API_KEY\"],\n",
    ")"
   ]
  },
  {
   "cell_type": "code",
   "execution_count": 49,
   "metadata": {},
   "outputs": [
    {
     "data": {
      "text/plain": [
       "True"
      ]
     },
     "execution_count": 49,
     "metadata": {},
     "output_type": "execute_result"
    }
   ],
   "source": [
    "qdrant_client.recreate_collection(\n",
    "    collection_name=\"outcome_measures\",\n",
    "    vectors_config=VectorParams(size=1536, distance=Distance.COSINE),\n",
    ")"
   ]
  },
  {
   "cell_type": "code",
   "execution_count": 50,
   "metadata": {},
   "outputs": [],
   "source": [
    "database = {\"doc 1\": \"Document effects of Gaucher disease in different systems of body, including nervous system, liver, and spleen.,Document adverse events subjects experience on enzyme replacement therapy,Document adverse events of subjects on substrate reduction therapy,Document long-term complications in Gaucher Disease.,Change in 36-Item Short Form Survey (SF-36) collected every 6 months/1 year.,Change in Small Fiber Neuropathy Screening List (SFNSL) collected every 6 months/1 year.,Document number of subjects experiencing neurological symptoms related to Gaucher, by using Neurological Follow-up exam,Change in Parkinson's checklist collected every 6 months/1 year\", \n",
    "            \"doc 2\": \"Measure cardiovascular stability and electrical brain activity during slow induction with sevoflurane.,Use cardiovascular and electrical brain measurements to limit amount of sevoflurane and predict individual sensitivity.\"}\n",
    "\n"
   ]
  },
  {
   "cell_type": "code",
   "execution_count": 51,
   "metadata": {},
   "outputs": [
    {
     "data": {
      "text/plain": [
       "UpdateResult(operation_id=0, status=<UpdateStatus.COMPLETED: 'completed'>)"
      ]
     },
     "execution_count": 51,
     "metadata": {},
     "output_type": "execute_result"
    }
   ],
   "source": [
    "\n",
    "qdrant_client.upsert(\n",
    "    collection_name=\"outcome_measures\",\n",
    "    points=[\n",
    "        PointStruct(\n",
    "            id=index,\n",
    "            vector= get_embedding(database[key]),\n",
    "            payload={\"snomed\": key}\n",
    "        )\n",
    "        for index, key in enumerate(database)\n",
    "    ]\n",
    ")"
   ]
  },
  {
   "cell_type": "code",
   "execution_count": null,
   "metadata": {},
   "outputs": [],
   "source": [
    "def query_vector_db(text, collection_name, top_k=5):\n",
    "    embedding = get_embedding(text)\n",
    "    hits = qdrant_client.search(\n",
    "        collection_name=collection_name,\n",
    "        vector=embedding,\n",
    "        limit=5\n",
    "    )\n",
    "    return hits"
   ]
  },
  {
   "cell_type": "code",
   "execution_count": 52,
   "metadata": {},
   "outputs": [],
   "source": [
    "query = \"Gaucher disease in different systems of body\"\n",
    "query_vector = get_embedding(query)"
   ]
  },
  {
   "cell_type": "code",
   "execution_count": 53,
   "metadata": {},
   "outputs": [],
   "source": [
    "hits = qdrant_client.search(\n",
    "    collection_name=\"outcome_measures\",\n",
    "    query_vector=query_vector,\n",
    "    limit=5  # Return 5 closest points\n",
    ")"
   ]
  },
  {
   "cell_type": "code",
   "execution_count": 57,
   "metadata": {},
   "outputs": [
    {
     "data": {
      "text/plain": [
       "[ScoredPoint(id=0, version=0, score=0.87408036, payload={'snomed': 'doc 1'}, vector=None),\n",
       " ScoredPoint(id=1, version=0, score=0.7137416, payload={'snomed': 'doc 2'}, vector=None)]"
      ]
     },
     "execution_count": 57,
     "metadata": {},
     "output_type": "execute_result"
    }
   ],
   "source": [
    "hits"
   ]
  },
  {
   "cell_type": "code",
   "execution_count": 55,
   "metadata": {},
   "outputs": [
    {
     "data": {
      "text/plain": [
       "{'snomed': 'doc 1'}"
      ]
     },
     "execution_count": 55,
     "metadata": {},
     "output_type": "execute_result"
    }
   ],
   "source": [
    "hits[0].payload"
   ]
  },
  {
   "cell_type": "code",
   "execution_count": null,
   "metadata": {},
   "outputs": [],
   "source": []
  }
 ],
 "metadata": {
  "kernelspec": {
   "display_name": "base",
   "language": "python",
   "name": "python3"
  },
  "language_info": {
   "codemirror_mode": {
    "name": "ipython",
    "version": 3
   },
   "file_extension": ".py",
   "mimetype": "text/x-python",
   "name": "python",
   "nbconvert_exporter": "python",
   "pygments_lexer": "ipython3",
   "version": "3.10.9"
  },
  "orig_nbformat": 4
 },
 "nbformat": 4,
 "nbformat_minor": 2
}
